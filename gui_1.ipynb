{
 "cells": [
  {
   "cell_type": "markdown",
   "metadata": {},
   "source": [
    "# GUI- Starting"
   ]
  },
  {
   "cell_type": "markdown",
   "metadata": {},
   "source": [
    "This file will be used as the starting GUI of our project. \n",
    "\n",
    "When this script is run, a tkinter window appears which allows the user to choose an image,  select the currency type and then submit the image for processing. The user can put the test currency image in his/her system and then through this GUI, the user can browse his/her system and find the test image"
   ]
  },
  {
   "cell_type": "code",
   "execution_count": 1,
   "metadata": {},
   "outputs": [],
   "source": [
    "# Importing necessary packages to be used\n",
    "from tkinter import *\n",
    "import tkinter\n",
    "import customtkinter as ctk\n",
    "\n",
    "from tkinter import messagebox,Canvas, IntVar\n",
    "import tkinter.filedialog as tkFileDialog\n",
    "\n",
    "from PIL import Image,ImageTk\n",
    "\n",
    "import cv2\n"
   ]
  },
  {
   "cell_type": "code",
   "execution_count": 2,
   "metadata": {},
   "outputs": [
    {
     "name": "stderr",
     "output_type": "stream",
     "text": [
      "c:\\Users\\dell\\AppData\\Local\\Programs\\Python\\Python311\\Lib\\site-packages\\customtkinter\\windows\\widgets\\core_widget_classes\\ctk_base_class.py:179: UserWarning: CTkLabel Warning: Given image is not CTkImage but <class 'PIL.ImageTk.PhotoImage'>. Image can not be scaled on HighDPI displays, use CTkImage instead.\n",
      "\n",
      "  warnings.warn(f\"{type(self).__name__} Warning: Given image is not CTkImage but {type(image)}. Image can not be scaled on HighDPI displays, use CTkImage instead.\\n\")\n"
     ]
    }
   ],
   "source": [
    "# This func is called whenever a radio button is clicked\n",
    "\n",
    "\n",
    "def currency_type():\n",
    "    global option\n",
    "    option = int(var.get())\n",
    "\n",
    "# This func is called whenever the 'Select an image' button is clicked\n",
    "def select_image():\n",
    "    # grab a reference to the image canvas and the path variable\n",
    "    global canvas\n",
    "    global path\n",
    "    \n",
    "    canvas.delete(\"all\")\n",
    "    # open a file chooser dialog and allow the user to select an input\n",
    "    # image\n",
    "    path = tkFileDialog.askopenfilename()\n",
    "    \n",
    "\n",
    "    # ensure a file path was selected\n",
    "    if len(path) > 0 and path[-4:] == '.jpg':\n",
    "        # load the image from disk\n",
    "        image = cv2.imread(path)\n",
    "        original_image = image.copy()\n",
    "\n",
    "        #  represents images in BGR order; however PIL represents\n",
    "        # images in RGB order, so we need to swap the channels\n",
    "        image = cv2.cvtColor(image, cv2.COLOR_BGR2RGB)\n",
    "        image = cv2.resize(image, (675, 300))\n",
    "\n",
    "        # convert the images to PIL format...\n",
    "        image = Image.fromarray(image)\n",
    "\n",
    "        # ...and then to ImageTk format\n",
    "        image = ImageTk.PhotoImage(image)\n",
    "\n",
    "        canvas.image = image\n",
    "        canvas.create_image(0, 0, anchor=\"nw\", image=image) \n",
    "    else:\n",
    "        messagebox.showinfo(\"Warning\",\"Please choose an image! (It should be a .jpg file)\")\n",
    "                \n",
    "# Submit the image for preprocessing if the image path is valid and the currency type is chosen\n",
    "# Currently, this GUI is just a prototype. So the image is not being sent anywhere. \n",
    "# \n",
    "def submit():\n",
    "    global option\n",
    "    global path\n",
    "    global selectedImage\n",
    "    if len(path) <= 0:\n",
    "        messagebox.showinfo(\"Warning\",\"Please choose an image!\")\n",
    "    elif option == -1:\n",
    "        messagebox.showinfo(\"Warning\",\"Please choose the currency type!\")\n",
    "    else:\n",
    "        print(path)\n",
    "        print(option)\n",
    "        selectedImage = True\n",
    "        messagebox.showinfo(\"Info\",\"Image sent for processing!\")\n",
    "        root.destroy()\n",
    "\n",
    "# Exit window\n",
    "def exit_window():\n",
    "    root.destroy()\n",
    "   \n",
    "# Declaring variables\n",
    "path = \"\"                      # Stores path of image selected\n",
    "option = -1                    # Stores option number. -1 ---> No option selected\n",
    "selectedImage = False          #                        1 ---> 500 currency type selected\n",
    "                               #                        2 ---> 1000 currency type selected\n",
    "# Main function\n",
    "# Declaring root window\n",
    "root = ctk.CTk()\n",
    "root.title('Fake Currency Detection')\n",
    "root.geometry(\"900x600\")\n",
    "# root.title(\"Fake Currency Detection System\")\n",
    "\n",
    "#for background image\n",
    "img1=ImageTk.PhotoImage(Image.open(\"images\\pattern.png\"))\n",
    "l1=ctk.CTkLabel(master=root,image=img1)\n",
    "l1.pack()\n",
    "\n",
    "#creating custom frame\n",
    "frame=ctk.CTkFrame(master=l1, width=740, height=500, corner_radius=15)\n",
    "frame.place(relx=0.5, rely=0.5, anchor=tkinter.CENTER)\n",
    "\n",
    "# Title label in frame\n",
    "l2=ctk.CTkLabel(master=frame, text=\"FAKE CURRENCY DETECTION SYSTEM\",font=('Century Gothic',20))\n",
    "l2.place(x=190, y=20)\n",
    "\n",
    "# Creating a canvas to display the image\n",
    "canvas = Canvas(master=frame, width = 675, height = 300)  \n",
    "canvas.place(x=130, y=110)\n",
    "\n",
    "# Creating radio button to choose between 500 or 2000 currency notes\n",
    "text2 = ctk.CTkLabel(master=frame, text=\"Select currency type :\",font=('Century Gothic',15))\n",
    "text2.place(x=180, y=350) \n",
    "\n",
    "\n",
    "\n",
    "var = IntVar()\n",
    "\n",
    "R1 = ctk.CTkRadioButton(master=frame, text=\"500\", variable=var, value=1, command=currency_type)\n",
    "R1.place(x=460, y=355) \n",
    "# R1.place(relx=0.6, rely=0.25)\n",
    "\n",
    "R2 = ctk.CTkRadioButton(master=frame, text=\"2000\", variable=var, value=2,command=currency_type)\n",
    "R2.place(x=360, y=355) \n",
    "# R2.place(relx=0.3, rely=0.25)\n",
    "\n",
    "# Button to browse the image\n",
    "btn = ctk.CTkButton(master = frame, text=\"SELECT IMAGE\",command=select_image)\n",
    "btn.place(x=300, y=400)\n",
    "\n",
    "# Button to submit the image\n",
    "btn = ctk.CTkButton(master = frame, text=\"SUBMIT\", command=submit)\n",
    "btn.place(x=230, y=440)\n",
    "\n",
    "# Button to exit window\n",
    "btn = ctk.CTkButton(master = frame, text=\"EXIT\", command=exit_window)\n",
    "btn.place(x=380, y=440)\n",
    "# Open the root window\n",
    "root.mainloop() "
   ]
  },
  {
   "cell_type": "code",
   "execution_count": 3,
   "metadata": {},
   "outputs": [
    {
     "name": "stdout",
     "output_type": "stream",
     "text": [
      "Stored 'selectedImage' (bool)\n"
     ]
    }
   ],
   "source": [
    "# When an image is selected, currency type is chosen and submit button is clicked\n",
    "# Then the path of the image and the currency type is stored using Ipython magic commands\n",
    "%store selectedImage\n",
    "\n",
    "if selectedImage == True:\n",
    "    %store path\n",
    "    %store option\n"
   ]
  },
  {
   "cell_type": "code",
   "execution_count": null,
   "metadata": {},
   "outputs": [],
   "source": []
  }
 ],
 "metadata": {
  "kernelspec": {
   "display_name": "Python 3",
   "language": "python",
   "name": "python3"
  },
  "language_info": {
   "codemirror_mode": {
    "name": "ipython",
    "version": 3
   },
   "file_extension": ".py",
   "mimetype": "text/x-python",
   "name": "python",
   "nbconvert_exporter": "python",
   "pygments_lexer": "ipython3",
   "version": "3.11.2"
  }
 },
 "nbformat": 4,
 "nbformat_minor": 4
}
